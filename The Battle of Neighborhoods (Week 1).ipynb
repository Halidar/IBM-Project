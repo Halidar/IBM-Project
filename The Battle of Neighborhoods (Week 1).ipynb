{
 "cells": [
  {
   "cell_type": "markdown",
   "metadata": {
    "collapsed": true
   },
   "source": [
    "# Peer-graded Assignment: Capstone Project - The Battle of Neighborhoods (Week 1) "
   ]
  },
  {
   "cell_type": "markdown",
   "metadata": {},
   "source": [
    "    This capstone project will be graded by your peers. This capstone project is worth 70% of your total grade. The project will be completed over the course of 2 weeks. Week 1 submissions will be worth 30% whereas week 2 submissions will be worth 40% of your total grade.\n",
    "      For this week, you will required to submit the following:\n",
    "\n",
    "    - A description of the problem and a discussion of the background. (15 marks)\n",
    "    - A description of the data and how it will be used to solve the problem. (15 marks)\n",
    "    "
   ]
  },
  {
   "cell_type": "markdown",
   "metadata": {},
   "source": [
    "# 1. INTRODUCTION \n",
    "### where you discuss the business problem and who would be interested in this project\n",
    "   \n",
    "Even thou electric cars are currently on the rise, most of us still rely on the conventional combustion engine powered vehicles. Average American uses 656 gallons of fuel per person, per year, and while there is a lot of talk about the whole industry - mining, refining etc. most of us usual deal only with the Gas Stations themselves, as both the point of purchase and the everyday representative of the entire industry. \n",
    "  \n",
    "For this assignment we will take a look at a scenario of a new gas station chain (like Shell,  BP, etc.) planning to expand their business in New York City. We will focus on an existing venues and try to determine a weak spots, as a possible future purchases. Our potential client is interested in a underperforming and ineffective places, which can be bought and transformed in a new ones under the new logo, as well as a places that lacks an access to a gas stations. \n"
   ]
  },
  {
   "cell_type": "markdown",
   "metadata": {},
   "source": [
    "# 2. DATA\n",
    "### where you describe the data that will be used to solve the problem and the source of the data\n",
    "\n",
    "For this assignment we will use Foursquare API to extract information about an existing Gas Stations located all over New York City. We will take a look at their location as well as rating, likes and tips.   \n",
    "We will also use an existing New York geojson dataset, available at IBM Cloud Platform, and combine its coordinates with a results from Foursquare API. \n"
   ]
  },
  {
   "cell_type": "markdown",
   "metadata": {},
   "source": [
    "# 3. METODOLOGY\n",
    "### section which represents the main component of the report where you discuss and describe any exploratory data analysis that you did, any inferential statistical testing that you performed, and what machine learnings were used and why\n",
    "\n",
    "1. First step of this analysis will consist of a geojason data mining from a Foursquare API for Gas Stations located in New York City. We will later combine this data with a geojson dataset from IBM Cloud. \n",
    "2. We will analyze their location, likes and ratings, we will plot additional graphs and datasets to help us visualize their location and performance \n",
    "3. Later we will look for 5-6 Gas Stations with the worst performance and client experience as a potential places we might buy and improve under the new logo, using an existing infrastructure\n",
    "4. At the very end we will generate a map using Folium with top pick for a planned purchase, which can be used for further analysis by financial departments. \n"
   ]
  },
  {
   "cell_type": "markdown",
   "metadata": {},
   "source": [
    "# 4. RESULTS\n",
    "### section where you discuss the results\n",
    "\n",
    "1. We managed to identify a total of 19 Gas Stations located all over the City of New York, owned by BP, Shell and Speedway\n",
    "2. The biggest accumulation of gas stations can be found at Bronx and Queens, with Edenwald and Wakefield being the Neighborhoods with the most gas stations\n",
    "3. Later analysis using Foursquare API showed that Gas Stations are rated on average at ~6.1\n",
    "4. We've decided to select bottom 6 as a potential purchases and plot them on the map \n",
    "   \n",
    "[!] Further and more detailed analysis can be found in a Capstone Report of \"The Battle of Neighborhoods (Cont'd)\" available at Coursera\n"
   ]
  },
  {
   "cell_type": "markdown",
   "metadata": {},
   "source": [
    "# 5. DISCUSSION\n",
    "### section where you discuss any observations you noted and any recommendations you can make based on the results\n",
    "\n",
    "Based on the results we can see that the worst performing stations are located Cypress Hills and Broadway Junction in Brooklyn, Far Rockaway, Springfield Gardens and Brookville in Queens and Egbertville in Staten Island. Their overall satisfaction is below 5.9 which is even below the average for the entire city making them and interesting picks for our enterprise. However it's also important to notice that Broadway Junction and Cypress Hills, as well as Springfield Gardens and Brookville are located very close to each other making it reasonable to choose only one of each in Brooklyn and Queens."
   ]
  },
  {
   "cell_type": "markdown",
   "metadata": {},
   "source": [
    "# 6. CONCLUSION\n",
    "### section where you conclude the report.\n",
    "   \n",
    "Our report clearly shows that there are at least two points where we should focus on a potential gas station acquisition. Springfield Gardens or Brookville station in Queens as there are located very close to each other and Broadway Junction or Cypress Hills at Queens. All of these stations not only fall way below average rating for gas stations in New York, but also are the lowest scores in the entire city. This is a strong signal that these stations are underperfoming and there is potentially a rooms for improvement here. "
   ]
  },
  {
   "cell_type": "code",
   "execution_count": null,
   "metadata": {},
   "outputs": [],
   "source": []
  }
 ],
 "metadata": {
  "kernelspec": {
   "display_name": "Python 3.5",
   "language": "python",
   "name": "python3"
  },
  "language_info": {
   "codemirror_mode": {
    "name": "ipython",
    "version": 3
   },
   "file_extension": ".py",
   "mimetype": "text/x-python",
   "name": "python",
   "nbconvert_exporter": "python",
   "pygments_lexer": "ipython3",
   "version": "3.5.5"
  }
 },
 "nbformat": 4,
 "nbformat_minor": 1
}
